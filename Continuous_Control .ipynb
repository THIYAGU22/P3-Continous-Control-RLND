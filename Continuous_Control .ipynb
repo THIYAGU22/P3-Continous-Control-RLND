{
 "cells": [
  {
   "cell_type": "markdown",
   "metadata": {},
   "source": [
    "# Continuous Control\n",
    "\n",
    "---\n",
    "\n",
    "You are welcome to use this coding environment to train your agent for the project.  Follow the instructions below to get started!\n",
    "\n",
    "### 1. Start the Environment\n",
    "\n",
    "Run the next code cell to install a few packages.  This line will take a few minutes to run!"
   ]
  },
  {
   "cell_type": "code",
   "execution_count": 1,
   "metadata": {},
   "outputs": [
    {
     "name": "stdout",
     "output_type": "stream",
     "text": [
      "\u001b[31mtensorflow 1.7.1 has requirement numpy>=1.13.3, but you'll have numpy 1.12.1 which is incompatible.\u001b[0m\r\n",
      "\u001b[31mipython 6.5.0 has requirement prompt-toolkit<2.0.0,>=1.0.15, but you'll have prompt-toolkit 2.0.10 which is incompatible.\u001b[0m\r\n"
     ]
    }
   ],
   "source": [
    "!pip -q install ./python"
   ]
  },
  {
   "cell_type": "markdown",
   "metadata": {},
   "source": [
    "The environments corresponding to both versions of the environment are already saved in the Workspace and can be accessed at the file paths provided below.  \n",
    "\n",
    "Please select one of the two options below for loading the environment."
   ]
  },
  {
   "cell_type": "code",
   "execution_count": 2,
   "metadata": {},
   "outputs": [],
   "source": [
    "from ddpg_Agent import DDPGAGENT\n",
    "import torch\n",
    "import random\n",
    "import numpy as np\n",
    "import time\n",
    "\n",
    "import matplotlib.pyplot as plt\n",
    "from collections import deque\n"
   ]
  },
  {
   "cell_type": "code",
   "execution_count": 3,
   "metadata": {},
   "outputs": [
    {
     "name": "stderr",
     "output_type": "stream",
     "text": [
      "INFO:unityagents:\n",
      "'Academy' started successfully!\n",
      "Unity Academy name: Academy\n",
      "        Number of Brains: 1\n",
      "        Number of External Brains : 1\n",
      "        Lesson number : 0\n",
      "        Reset Parameters :\n",
      "\t\tgoal_size -> 5.0\n",
      "\t\tgoal_speed -> 1.0\n",
      "Unity brain name: ReacherBrain\n",
      "        Number of Visual Observations (per agent): 0\n",
      "        Vector Observation space type: continuous\n",
      "        Vector Observation space size (per agent): 33\n",
      "        Number of stacked Vector Observation: 1\n",
      "        Vector Action space type: continuous\n",
      "        Vector Action space size (per agent): 4\n",
      "        Vector Action descriptions: , , , \n"
     ]
    }
   ],
   "source": [
    "from unityagents import UnityEnvironment\n",
    "import numpy as np\n",
    "%matplotlib inline\n",
    "\n",
    "# select this option to load version 1 (with a single agent) of the environment\n",
    "#env = UnityEnvironment(file_name='/data/Reacher_One_Linux_NoVis/Reacher_One_Linux_NoVis.x86_64')\n",
    "\n",
    "# select this option to load version 2 (with 20 agents) of the environment\n",
    "env = UnityEnvironment(file_name='/data/Reacher_Linux_NoVis/Reacher.x86_64')"
   ]
  },
  {
   "cell_type": "markdown",
   "metadata": {},
   "source": [
    "Environments contain **_brains_** which are responsible for deciding the actions of their associated agents. Here we check for the first brain available, and set it as the default brain we will be controlling from Python."
   ]
  },
  {
   "cell_type": "code",
   "execution_count": 4,
   "metadata": {},
   "outputs": [],
   "source": [
    "# get the default brain\n",
    "brain_name = env.brain_names[0]\n",
    "brain = env.brains[brain_name]"
   ]
  },
  {
   "cell_type": "markdown",
   "metadata": {},
   "source": [
    "### 2. Examine the State and Action Spaces\n",
    "\n",
    "Run the code cell below to print some information about the environment."
   ]
  },
  {
   "cell_type": "code",
   "execution_count": 5,
   "metadata": {},
   "outputs": [
    {
     "name": "stdout",
     "output_type": "stream",
     "text": [
      "Number of agents: 20\n",
      "Size of each action: 4\n",
      "There are 20 agents. Each observes a state with length: 33\n",
      "The state for the first agent looks like: [  0.00000000e+00  -4.00000000e+00   0.00000000e+00   1.00000000e+00\n",
      "  -0.00000000e+00  -0.00000000e+00  -4.37113883e-08   0.00000000e+00\n",
      "   0.00000000e+00   0.00000000e+00   0.00000000e+00   0.00000000e+00\n",
      "   0.00000000e+00   0.00000000e+00  -1.00000000e+01   0.00000000e+00\n",
      "   1.00000000e+00  -0.00000000e+00  -0.00000000e+00  -4.37113883e-08\n",
      "   0.00000000e+00   0.00000000e+00   0.00000000e+00   0.00000000e+00\n",
      "   0.00000000e+00   0.00000000e+00   5.75471878e+00  -1.00000000e+00\n",
      "   5.55726624e+00   0.00000000e+00   1.00000000e+00   0.00000000e+00\n",
      "  -1.68164849e-01]\n"
     ]
    }
   ],
   "source": [
    "# reset the environment\n",
    "env_info = env.reset(train_mode=True)[brain_name]\n",
    "\n",
    "# number of agents\n",
    "num_agents = len(env_info.agents)\n",
    "print('Number of agents:', num_agents)\n",
    "\n",
    "# size of each action\n",
    "action_size = brain.vector_action_space_size\n",
    "print('Size of each action:', action_size)\n",
    "\n",
    "# examine the state space \n",
    "states = env_info.vector_observations\n",
    "state_size = states.shape[1]\n",
    "print('There are {} agents. Each observes a state with length: {}'.format(states.shape[0], state_size))\n",
    "print('The state for the first agent looks like:', states[0])"
   ]
  },
  {
   "cell_type": "markdown",
   "metadata": {},
   "source": [
    "### 3. Take Random Actions in the Environment\n",
    "\n",
    "In the next code cell, you will learn how to use the Python API to control the agent and receive feedback from the environment.\n",
    "\n",
    "Note that **in this coding environment, you will not be able to watch the agents while they are training**, and you should set `train_mode=True` to restart the environment."
   ]
  },
  {
   "cell_type": "code",
   "execution_count": 6,
   "metadata": {},
   "outputs": [
    {
     "name": "stdout",
     "output_type": "stream",
     "text": [
      "Total score (averaged over agents) this episode: 0.14149999683722853\n"
     ]
    }
   ],
   "source": [
    "env_info = env.reset(train_mode=True)[brain_name]      # reset the environment    \n",
    "states = env_info.vector_observations                  # get the current state (for each agent)\n",
    "scores = np.zeros(num_agents)                          # initialize the score (for each agent)\n",
    "while True:\n",
    "    actions = np.random.randn(num_agents, action_size) # select an action (for each agent)\n",
    "    actions = np.clip(actions, -1, 1)                  # all actions between -1 and 1\n",
    "    env_info = env.step(actions)[brain_name]           # send all actions to tne environment\n",
    "    next_states = env_info.vector_observations         # get next state (for each agent)\n",
    "    rewards = env_info.rewards                         # get reward (for each agent)\n",
    "    dones = env_info.local_done                        # see if episode finished\n",
    "    scores += env_info.rewards                         # update the score (for each agent)\n",
    "    states = next_states                               # roll over states to next time step\n",
    "    if np.any(dones):                                  # exit loop if episode finished\n",
    "        break\n",
    "print('Total score (averaged over agents) this episode: {}'.format(np.mean(scores)))"
   ]
  },
  {
   "cell_type": "markdown",
   "metadata": {},
   "source": [
    "When finished, you can close the environment."
   ]
  },
  {
   "cell_type": "markdown",
   "metadata": {},
   "source": [
    "### 4. It's Your Turn!\n",
    "\n",
    "Now it's your turn to train your own agent to solve the environment!  A few **important notes**:\n",
    "- When training the environment, set `train_mode=True`, so that the line for resetting the environment looks like the following:\n",
    "```python\n",
    "env_info = env.reset(train_mode=True)[brain_name]\n",
    "```\n",
    "- To structure your work, you're welcome to work directly in this Jupyter notebook, or you might like to start over with a new file!  You can see the list of files in the workspace by clicking on **_Jupyter_** in the top left corner of the notebook.\n",
    "- In this coding environment, you will not be able to watch the agents while they are training.  However, **_after training the agents_**, you can download the saved model weights to watch the agents on your own machine! "
   ]
  },
  {
   "cell_type": "code",
   "execution_count": 7,
   "metadata": {},
   "outputs": [],
   "source": [
    "import workspace_utils"
   ]
  },
  {
   "cell_type": "code",
   "execution_count": 8,
   "metadata": {},
   "outputs": [],
   "source": [
    "def ddpg_control(num_episodes=500,max_t=1000,train_mode=True,print_every=1):\n",
    "    ## mean scores from recent episodes\n",
    "    scores_window = deque(maxlen=100)\n",
    "    average = []\n",
    "    mean = []\n",
    "    max_ckpt = []\n",
    "    min_ckpt = []\n",
    "    \n",
    "    for i_episode in range(1,num_episodes+1):\n",
    "        \n",
    "        env_info = env.reset(train_mode=True)[brain_name] #resetting the environment\n",
    "        states = env_info.vector_observations # current state (observation)\n",
    "        scores = np.zeros(num_agents)\n",
    "        agent.reset()\n",
    "        start_time = time.time()\n",
    "        \n",
    "        for t in range(max_t):\n",
    "            actions = agent.act(states,noise_accumulate=True) #choosing action\n",
    "            env_info = env.step(actions)[brain_name] #passing the actions into environment\n",
    "            next_states = env_info.vector_observations #picking up the next state\n",
    "            rewards = env_info.rewards # rewards you earn\n",
    "            dones = env_info.local_done # notifying the status of the episode ( completed or not)\n",
    "            \n",
    "            for state,action,reward,next_state,done in zip(states,actions,rewards,next_states,dones):\n",
    "                agent.step(state,action,reward,next_state,done,t)\n",
    "            states = next_states\n",
    "            scores += rewards\n",
    "            \n",
    "            if np.any(dones):\n",
    "                break\n",
    "                \n",
    "        duration = time.time()-start_time #duration for an episode\n",
    "        min_ckpt.append(np.min(scores)) #min score\n",
    "        max_ckpt.append(np.max(scores)) #max score\n",
    "        mean.append(np.mean(scores))    #mean score\n",
    "        scores_window.append(mean[-1])  #appending to scores windoow\n",
    "        average.append(np.mean(scores_window)) #average estimation\n",
    "            \n",
    "        if i_episode % print_every == 0 :\n",
    "            print('\\rEpisode {}  -- \\tMin: {:.1f}\\tMax: {:.1f}\\tMean: {:.1f}\\tAvg: {:.1f} takes ({} sec) '.format(\\\n",
    "                  i_episode, min_ckpt[-1], max_ckpt[-1], mean[-1], average[-1],round(duration)))\n",
    "            \n",
    "        if train_mode and mean[-1] > -np.Inf: # comparing with the best score (-np.Inf)\n",
    "            torch.save(agent.actor_local.state_dict(), \"ckpt_actor.pth\") #if yes saving the learnable actor parameters\n",
    "            torch.save(agent.critic_local.state_dict(),\"ckpt_critic.pth\")  #if yes saving the learnable critic parameters\n",
    "                  \n",
    "        if average[-1] >= 30.0 and i_episode >= 100: #compatibility with solvedscores\n",
    "            print('\\n Congrats Environment solved in {} episodes!\\tMoving Average ={:.1f} over last {} episodes'.format(\\\n",
    "                                        i_episode-100, average[-1], 100))\n",
    "            \n",
    "            if train_mode:\n",
    "                torch.save(agent.actor_local.state_dict(), \"ckpt_actor.pth\") #if yes saving the learnable actor parameters\n",
    "                torch.save(agent.critic_local.state_dict(), \"ckpt_critic.pth\")   #if yes saving the learnable critic parameters\n",
    "            break\n",
    "            \n",
    "    return mean, average"
   ]
  },
  {
   "cell_type": "code",
   "execution_count": 9,
   "metadata": {},
   "outputs": [
    {
     "name": "stdout",
     "output_type": "stream",
     "text": [
      "Episode 1  -- \tMin: 0.1\tMax: 2.1\tMean: 1.0\tAvg: 1.0 takes (112 sec) \n",
      "Episode 2  -- \tMin: 0.6\tMax: 2.6\tMean: 1.4\tAvg: 1.2 takes (116 sec) \n",
      "Episode 3  -- \tMin: 0.6\tMax: 3.3\tMean: 1.9\tAvg: 1.4 takes (116 sec) \n",
      "Episode 4  -- \tMin: 1.6\tMax: 5.0\tMean: 3.1\tAvg: 1.8 takes (118 sec) \n",
      "Episode 5  -- \tMin: 1.3\tMax: 6.5\tMean: 3.2\tAvg: 2.1 takes (118 sec) \n",
      "Episode 6  -- \tMin: 0.7\tMax: 5.6\tMean: 3.7\tAvg: 2.4 takes (119 sec) \n",
      "Episode 7  -- \tMin: 1.3\tMax: 6.5\tMean: 3.6\tAvg: 2.5 takes (117 sec) \n",
      "Episode 8  -- \tMin: 2.2\tMax: 7.8\tMean: 4.0\tAvg: 2.7 takes (119 sec) \n",
      "Episode 9  -- \tMin: 1.9\tMax: 7.7\tMean: 5.0\tAvg: 3.0 takes (119 sec) \n",
      "Episode 10  -- \tMin: 1.9\tMax: 10.0\tMean: 5.7\tAvg: 3.3 takes (120 sec) \n",
      "Episode 11  -- \tMin: 4.1\tMax: 10.6\tMean: 7.5\tAvg: 3.6 takes (120 sec) \n",
      "Episode 12  -- \tMin: 3.9\tMax: 11.1\tMean: 7.2\tAvg: 3.9 takes (120 sec) \n",
      "Episode 13  -- \tMin: 3.9\tMax: 10.4\tMean: 7.6\tAvg: 4.2 takes (120 sec) \n",
      "Episode 14  -- \tMin: 3.5\tMax: 11.6\tMean: 7.8\tAvg: 4.5 takes (119 sec) \n",
      "Episode 15  -- \tMin: 3.2\tMax: 14.8\tMean: 8.9\tAvg: 4.8 takes (120 sec) \n",
      "Episode 16  -- \tMin: 4.6\tMax: 13.6\tMean: 8.3\tAvg: 5.0 takes (120 sec) \n",
      "Episode 17  -- \tMin: 2.1\tMax: 13.2\tMean: 9.1\tAvg: 5.2 takes (120 sec) \n",
      "Episode 18  -- \tMin: 4.8\tMax: 19.1\tMean: 10.0\tAvg: 5.5 takes (120 sec) \n",
      "Episode 19  -- \tMin: 3.3\tMax: 14.1\tMean: 9.3\tAvg: 5.7 takes (119 sec) \n",
      "Episode 20  -- \tMin: 4.5\tMax: 18.7\tMean: 12.1\tAvg: 6.0 takes (116 sec) \n",
      "Episode 21  -- \tMin: 3.8\tMax: 16.0\tMean: 10.4\tAvg: 6.2 takes (117 sec) \n",
      "Episode 22  -- \tMin: 7.7\tMax: 20.3\tMean: 12.3\tAvg: 6.5 takes (119 sec) \n",
      "Episode 23  -- \tMin: 7.9\tMax: 19.4\tMean: 14.5\tAvg: 6.9 takes (119 sec) \n",
      "Episode 24  -- \tMin: 8.1\tMax: 26.7\tMean: 18.2\tAvg: 7.3 takes (118 sec) \n",
      "Episode 25  -- \tMin: 10.2\tMax: 30.2\tMean: 18.7\tAvg: 7.8 takes (118 sec) \n",
      "Episode 26  -- \tMin: 5.5\tMax: 26.6\tMean: 21.0\tAvg: 8.3 takes (118 sec) \n",
      "Episode 27  -- \tMin: 13.6\tMax: 27.6\tMean: 23.1\tAvg: 8.8 takes (117 sec) \n",
      "Episode 28  -- \tMin: 13.1\tMax: 28.4\tMean: 22.6\tAvg: 9.3 takes (117 sec) \n",
      "Episode 29  -- \tMin: 9.9\tMax: 34.0\tMean: 23.4\tAvg: 9.8 takes (117 sec) \n",
      "Episode 30  -- \tMin: 3.9\tMax: 32.3\tMean: 24.5\tAvg: 10.3 takes (117 sec) \n",
      "Episode 31  -- \tMin: 10.9\tMax: 37.3\tMean: 27.5\tAvg: 10.9 takes (117 sec) \n",
      "Episode 32  -- \tMin: 14.5\tMax: 34.9\tMean: 28.3\tAvg: 11.4 takes (117 sec) \n",
      "Episode 33  -- \tMin: 8.3\tMax: 32.9\tMean: 23.3\tAvg: 11.8 takes (118 sec) \n",
      "Episode 34  -- \tMin: 20.9\tMax: 34.7\tMean: 29.3\tAvg: 12.3 takes (118 sec) \n",
      "Episode 35  -- \tMin: 14.1\tMax: 35.8\tMean: 29.0\tAvg: 12.8 takes (117 sec) \n",
      "Episode 36  -- \tMin: 12.7\tMax: 34.9\tMean: 26.7\tAvg: 13.1 takes (118 sec) \n",
      "Episode 37  -- \tMin: 16.5\tMax: 33.6\tMean: 27.5\tAvg: 13.5 takes (118 sec) \n",
      "Episode 38  -- \tMin: 9.1\tMax: 36.7\tMean: 28.0\tAvg: 13.9 takes (117 sec) \n",
      "Episode 39  -- \tMin: 10.4\tMax: 34.8\tMean: 29.6\tAvg: 14.3 takes (118 sec) \n",
      "Episode 40  -- \tMin: 8.2\tMax: 35.9\tMean: 27.9\tAvg: 14.7 takes (117 sec) \n",
      "Episode 41  -- \tMin: 16.8\tMax: 34.4\tMean: 29.0\tAvg: 15.0 takes (117 sec) \n",
      "Episode 42  -- \tMin: 20.6\tMax: 37.1\tMean: 31.9\tAvg: 15.4 takes (117 sec) \n",
      "Episode 43  -- \tMin: 31.9\tMax: 39.1\tMean: 36.1\tAvg: 15.9 takes (117 sec) \n",
      "Episode 44  -- \tMin: 30.1\tMax: 38.6\tMean: 35.7\tAvg: 16.3 takes (117 sec) \n",
      "Episode 45  -- \tMin: 18.7\tMax: 38.9\tMean: 33.6\tAvg: 16.7 takes (117 sec) \n",
      "Episode 46  -- \tMin: 30.0\tMax: 38.3\tMean: 35.4\tAvg: 17.1 takes (117 sec) \n",
      "Episode 47  -- \tMin: 21.8\tMax: 39.5\tMean: 31.5\tAvg: 17.4 takes (118 sec) \n",
      "Episode 48  -- \tMin: 31.7\tMax: 39.6\tMean: 35.7\tAvg: 17.8 takes (117 sec) \n",
      "Episode 49  -- \tMin: 30.4\tMax: 39.3\tMean: 36.0\tAvg: 18.2 takes (118 sec) \n",
      "Episode 50  -- \tMin: 30.7\tMax: 38.4\tMean: 35.7\tAvg: 18.5 takes (118 sec) \n",
      "Episode 51  -- \tMin: 28.2\tMax: 39.5\tMean: 37.2\tAvg: 18.9 takes (118 sec) \n",
      "Episode 52  -- \tMin: 27.9\tMax: 39.4\tMean: 37.1\tAvg: 19.3 takes (117 sec) \n",
      "Episode 53  -- \tMin: 29.2\tMax: 39.4\tMean: 36.1\tAvg: 19.6 takes (116 sec) \n",
      "Episode 54  -- \tMin: 27.7\tMax: 39.6\tMean: 36.6\tAvg: 19.9 takes (117 sec) \n",
      "Episode 55  -- \tMin: 22.8\tMax: 39.3\tMean: 35.5\tAvg: 20.2 takes (117 sec) \n",
      "Episode 56  -- \tMin: 31.8\tMax: 39.2\tMean: 36.0\tAvg: 20.5 takes (117 sec) \n",
      "Episode 57  -- \tMin: 14.2\tMax: 38.9\tMean: 33.5\tAvg: 20.7 takes (118 sec) \n",
      "Episode 58  -- \tMin: 19.5\tMax: 37.3\tMean: 33.6\tAvg: 20.9 takes (118 sec) \n",
      "Episode 59  -- \tMin: 27.3\tMax: 38.9\tMean: 36.5\tAvg: 21.2 takes (117 sec) \n",
      "Episode 60  -- \tMin: 24.8\tMax: 39.1\tMean: 33.2\tAvg: 21.4 takes (118 sec) \n",
      "Episode 61  -- \tMin: 33.6\tMax: 39.4\tMean: 37.6\tAvg: 21.6 takes (117 sec) \n",
      "Episode 62  -- \tMin: 32.3\tMax: 39.6\tMean: 36.8\tAvg: 21.9 takes (118 sec) \n",
      "Episode 63  -- \tMin: 32.1\tMax: 38.3\tMean: 35.4\tAvg: 22.1 takes (120 sec) \n",
      "Episode 64  -- \tMin: 30.9\tMax: 39.3\tMean: 36.0\tAvg: 22.3 takes (119 sec) \n",
      "Episode 65  -- \tMin: 28.1\tMax: 37.8\tMean: 35.3\tAvg: 22.5 takes (120 sec) \n",
      "Episode 66  -- \tMin: 36.2\tMax: 39.2\tMean: 38.0\tAvg: 22.8 takes (118 sec) \n",
      "Episode 67  -- \tMin: 31.6\tMax: 39.5\tMean: 37.5\tAvg: 23.0 takes (118 sec) \n",
      "Episode 68  -- \tMin: 13.2\tMax: 39.6\tMean: 37.1\tAvg: 23.2 takes (119 sec) \n",
      "Episode 69  -- \tMin: 35.9\tMax: 39.6\tMean: 38.2\tAvg: 23.4 takes (119 sec) \n",
      "Episode 70  -- \tMin: 34.2\tMax: 39.4\tMean: 37.3\tAvg: 23.6 takes (118 sec) \n",
      "Episode 71  -- \tMin: 30.0\tMax: 39.4\tMean: 35.6\tAvg: 23.8 takes (118 sec) \n",
      "Episode 72  -- \tMin: 21.6\tMax: 39.5\tMean: 34.4\tAvg: 23.9 takes (119 sec) \n",
      "Episode 73  -- \tMin: 26.7\tMax: 39.1\tMean: 36.2\tAvg: 24.1 takes (119 sec) \n",
      "Episode 74  -- \tMin: 30.8\tMax: 38.1\tMean: 35.8\tAvg: 24.2 takes (119 sec) \n",
      "Episode 75  -- \tMin: 31.4\tMax: 39.3\tMean: 35.8\tAvg: 24.4 takes (119 sec) \n",
      "Episode 76  -- \tMin: 31.2\tMax: 39.5\tMean: 36.2\tAvg: 24.5 takes (119 sec) \n",
      "Episode 77  -- \tMin: 30.8\tMax: 39.6\tMean: 36.5\tAvg: 24.7 takes (118 sec) \n",
      "Episode 78  -- \tMin: 36.3\tMax: 39.6\tMean: 38.6\tAvg: 24.9 takes (118 sec) \n",
      "Episode 79  -- \tMin: 36.2\tMax: 39.0\tMean: 37.7\tAvg: 25.0 takes (118 sec) \n",
      "Episode 80  -- \tMin: 32.0\tMax: 39.4\tMean: 36.6\tAvg: 25.2 takes (118 sec) \n",
      "Episode 81  -- \tMin: 31.4\tMax: 38.3\tMean: 35.7\tAvg: 25.3 takes (118 sec) \n",
      "Episode 82  -- \tMin: 26.0\tMax: 38.5\tMean: 34.7\tAvg: 25.4 takes (118 sec) \n",
      "Episode 83  -- \tMin: 17.9\tMax: 38.9\tMean: 34.4\tAvg: 25.5 takes (117 sec) \n",
      "Episode 84  -- \tMin: 26.1\tMax: 39.4\tMean: 35.5\tAvg: 25.7 takes (118 sec) \n",
      "Episode 85  -- \tMin: 30.9\tMax: 39.3\tMean: 35.5\tAvg: 25.8 takes (118 sec) \n",
      "Episode 86  -- \tMin: 25.1\tMax: 37.6\tMean: 34.3\tAvg: 25.9 takes (119 sec) \n",
      "Episode 87  -- \tMin: 32.6\tMax: 39.5\tMean: 37.0\tAvg: 26.0 takes (119 sec) \n",
      "Episode 88  -- \tMin: 31.7\tMax: 39.6\tMean: 37.1\tAvg: 26.1 takes (122 sec) \n",
      "Episode 89  -- \tMin: 27.7\tMax: 39.4\tMean: 33.6\tAvg: 26.2 takes (119 sec) \n",
      "Episode 90  -- \tMin: 32.3\tMax: 38.6\tMean: 36.0\tAvg: 26.3 takes (123 sec) \n",
      "Episode 91  -- \tMin: 32.3\tMax: 39.4\tMean: 37.2\tAvg: 26.4 takes (119 sec) \n",
      "Episode 92  -- \tMin: 32.3\tMax: 39.5\tMean: 37.0\tAvg: 26.6 takes (124 sec) \n",
      "Episode 93  -- \tMin: 34.8\tMax: 39.6\tMean: 38.1\tAvg: 26.7 takes (119 sec) \n",
      "Episode 94  -- \tMin: 16.4\tMax: 39.1\tMean: 36.5\tAvg: 26.8 takes (123 sec) \n",
      "Episode 95  -- \tMin: 34.0\tMax: 39.1\tMean: 37.2\tAvg: 26.9 takes (118 sec) \n",
      "Episode 96  -- \tMin: 32.2\tMax: 38.4\tMean: 35.6\tAvg: 27.0 takes (119 sec) \n",
      "Episode 97  -- \tMin: 23.7\tMax: 39.3\tMean: 35.8\tAvg: 27.1 takes (118 sec) \n",
      "Episode 98  -- \tMin: 16.0\tMax: 39.4\tMean: 35.5\tAvg: 27.2 takes (118 sec) \n",
      "Episode 99  -- \tMin: 33.7\tMax: 39.4\tMean: 37.0\tAvg: 27.3 takes (119 sec) \n",
      "Episode 100  -- \tMin: 28.4\tMax: 39.1\tMean: 35.9\tAvg: 27.3 takes (118 sec) \n",
      "Episode 101  -- \tMin: 36.1\tMax: 39.4\tMean: 37.9\tAvg: 27.7 takes (118 sec) \n",
      "Episode 102  -- \tMin: 31.8\tMax: 39.2\tMean: 36.3\tAvg: 28.1 takes (118 sec) \n",
      "Episode 103  -- \tMin: 26.6\tMax: 39.5\tMean: 36.3\tAvg: 28.4 takes (118 sec) \n",
      "Episode 104  -- \tMin: 21.2\tMax: 39.3\tMean: 35.3\tAvg: 28.7 takes (118 sec) \n",
      "Episode 105  -- \tMin: 36.0\tMax: 39.6\tMean: 38.0\tAvg: 29.1 takes (119 sec) \n",
      "Episode 106  -- \tMin: 30.7\tMax: 39.6\tMean: 37.1\tAvg: 29.4 takes (120 sec) \n",
      "Episode 107  -- \tMin: 15.8\tMax: 37.3\tMean: 31.6\tAvg: 29.7 takes (121 sec) \n",
      "Episode 108  -- \tMin: 26.7\tMax: 38.2\tMean: 34.4\tAvg: 30.0 takes (121 sec) \n",
      "Episode 109  -- \tMin: 22.4\tMax: 39.5\tMean: 34.0\tAvg: 30.3 takes (121 sec) \n",
      "\n",
      " Congrats Environment solved in 9 episodes!\tMoving Average =30.3 over last 100 episodes\n"
     ]
    }
   ],
   "source": [
    "from workspace_utils import active_session\n",
    " \n",
    "with active_session():\n",
    "    # do long-running work here\n",
    "    agent = DDPGAGENT(state_size = state_size , action_size = action_size , random_seed = 1)\n",
    "    scores,avg = ddpg_control()"
   ]
  },
  {
   "cell_type": "code",
   "execution_count": 10,
   "metadata": {},
   "outputs": [
    {
     "data": {
      "image/png": "[encoded data removed]",
      "text/plain": [
       "<matplotlib.figure.Figure at 0x7f0818a926d8>"
      ]
     },
     "metadata": {
      "needs_background": "light"
     },
     "output_type": "display_data"
    }
   ],
   "source": [
    "#scores - visualization epi sode vs score\n",
    "fig = plt.figure()\n",
    "ax = fig.add_subplot(111)\n",
    "plt.plot(np.arange(len(scores)), scores, label='DDPG')\n",
    "plt.plot(np.arange(len(scores)), avg, c='r', label='moving avg')\n",
    "plt.ylabel('Score')\n",
    "plt.xlabel('Episode')\n",
    "plt.show()"
   ]
  },
  {
   "cell_type": "code",
   "execution_count": 11,
   "metadata": {},
   "outputs": [],
   "source": [
    "env.close()"
   ]
  },
  {
   "cell_type": "code",
   "execution_count": null,
   "metadata": {},
   "outputs": [],
   "source": []
  },
  {
   "cell_type": "code",
   "execution_count": null,
   "metadata": {},
   "outputs": [],
   "source": []
  }
 ],
 "metadata": {
  "kernelspec": {
   "display_name": "Python 3",
   "language": "python",
   "name": "python3"
  },
  "language_info": {
   "codemirror_mode": {
    "name": "ipython",
    "version": 3
   },
   "file_extension": ".py",
   "mimetype": "text/x-python",
   "name": "python",
   "nbconvert_exporter": "python",
   "pygments_lexer": "ipython3",
   "version": "3.6.3"
  }
 },
 "nbformat": 4,
 "nbformat_minor": 2
}
